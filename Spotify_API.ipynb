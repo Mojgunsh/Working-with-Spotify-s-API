{
 "cells": [
  {
   "cell_type": "code",
   "execution_count": 16,
   "id": "90dd7acc",
   "metadata": {},
   "outputs": [],
   "source": [
    "import sys\n",
    "from config import *\n",
    "import pandas as pd\n",
    "import numpy as np"
   ]
  },
  {
   "cell_type": "markdown",
   "id": "906c0388",
   "metadata": {},
   "source": [
    "# Initialize SpotiPy "
   ]
  },
  {
   "cell_type": "code",
   "execution_count": 2,
   "id": "41900fdb",
   "metadata": {},
   "outputs": [],
   "source": [
    "import spotipy\n",
    "import json\n",
    "from spotipy.oauth2 import SpotifyClientCredentials\n",
    "\n",
    "\n",
    "#Initialize SpotiPy with user credentias\n",
    "sp = spotipy.Spotify(auth_manager=SpotifyClientCredentials(client_id=client_id,\n",
    "                                                           client_secret=client_secret))"
   ]
  },
  {
   "cell_type": "markdown",
   "id": "4a00369b",
   "metadata": {},
   "source": [
    "# HOT Songs"
   ]
  },
  {
   "cell_type": "code",
   "execution_count": 18,
   "id": "13b4a9fb",
   "metadata": {},
   "outputs": [],
   "source": [
    "top_100=pd.read_csv('top_100.csv')"
   ]
  },
  {
   "cell_type": "markdown",
   "id": "d2cfff54",
   "metadata": {},
   "source": [
    "## Function of search song"
   ]
  },
  {
   "cell_type": "code",
   "execution_count": 208,
   "id": "bb7184ae",
   "metadata": {},
   "outputs": [],
   "source": [
    "title=top_100['title'].to_list()\n",
    "artist=top_100['artist'].to_list()"
   ]
  },
  {
   "cell_type": "code",
   "execution_count": 209,
   "id": "43ce750d",
   "metadata": {},
   "outputs": [],
   "source": [
    "def get_uri(sp, title, artist_name, limit=5):\n",
    "    results = sp.search(q=title, limit=5)\n",
    "    for i in range(len(results['tracks']['items'])):\n",
    "        ar=results['tracks']['items'][i]['album']['artists'][0]['name']\n",
    "        if (ar in artist_name) or (artist_name in ar):\n",
    "            return results['tracks']['items'][i]['uri']\n",
    "    return None"
   ]
  },
  {
   "cell_type": "code",
   "execution_count": 210,
   "id": "51b8f16f",
   "metadata": {},
   "outputs": [],
   "source": [
    "uri_list = []\n",
    "for i in range(len(title)):\n",
    "    uri_list.append(get_uri(sp, title[i], artist[i]))"
   ]
  },
  {
   "cell_type": "code",
   "execution_count": 211,
   "id": "9d1a1526",
   "metadata": {},
   "outputs": [],
   "source": [
    "top_100['uri'] = uri_list"
   ]
  },
  {
   "cell_type": "code",
   "execution_count": 212,
   "id": "d816e8d8",
   "metadata": {
    "collapsed": true
   },
   "outputs": [
    {
     "data": {
      "text/html": [
       "<div>\n",
       "<style scoped>\n",
       "    .dataframe tbody tr th:only-of-type {\n",
       "        vertical-align: middle;\n",
       "    }\n",
       "\n",
       "    .dataframe tbody tr th {\n",
       "        vertical-align: top;\n",
       "    }\n",
       "\n",
       "    .dataframe thead th {\n",
       "        text-align: right;\n",
       "    }\n",
       "</style>\n",
       "<table border=\"1\" class=\"dataframe\">\n",
       "  <thead>\n",
       "    <tr style=\"text-align: right;\">\n",
       "      <th></th>\n",
       "      <th>index</th>\n",
       "      <th>Unnamed: 0</th>\n",
       "      <th>title</th>\n",
       "      <th>artist</th>\n",
       "      <th>uri</th>\n",
       "    </tr>\n",
       "  </thead>\n",
       "  <tbody>\n",
       "    <tr>\n",
       "      <th>0</th>\n",
       "      <td>0</td>\n",
       "      <td>0</td>\n",
       "      <td>As It Was</td>\n",
       "      <td>Harry Styles</td>\n",
       "      <td>spotify:track:4LRPiXqCikLlN15c3yImP7</td>\n",
       "    </tr>\n",
       "    <tr>\n",
       "      <th>1</th>\n",
       "      <td>1</td>\n",
       "      <td>1</td>\n",
       "      <td>First Class</td>\n",
       "      <td>Jack Harlow</td>\n",
       "      <td>spotify:track:1rDQ4oMwGJI7B4tovsBOxc</td>\n",
       "    </tr>\n",
       "    <tr>\n",
       "      <th>2</th>\n",
       "      <td>2</td>\n",
       "      <td>2</td>\n",
       "      <td>Wait For U</td>\n",
       "      <td>Future Featuring Drake &amp; Tems</td>\n",
       "      <td>spotify:track:59nOXPmaKlBfGMDeOVGrIK</td>\n",
       "    </tr>\n",
       "    <tr>\n",
       "      <th>3</th>\n",
       "      <td>3</td>\n",
       "      <td>3</td>\n",
       "      <td>Late Night Talking</td>\n",
       "      <td>Harry Styles</td>\n",
       "      <td>spotify:track:1qEmFfgcLObUfQm0j1W2CK</td>\n",
       "    </tr>\n",
       "    <tr>\n",
       "      <th>4</th>\n",
       "      <td>4</td>\n",
       "      <td>4</td>\n",
       "      <td>About Damn Time</td>\n",
       "      <td>Lizzo</td>\n",
       "      <td>spotify:track:1PckUlxKqWQs3RlWXVBLw3</td>\n",
       "    </tr>\n",
       "    <tr>\n",
       "      <th>...</th>\n",
       "      <td>...</td>\n",
       "      <td>...</td>\n",
       "      <td>...</td>\n",
       "      <td>...</td>\n",
       "      <td>...</td>\n",
       "    </tr>\n",
       "    <tr>\n",
       "      <th>90</th>\n",
       "      <td>95</td>\n",
       "      <td>95</td>\n",
       "      <td>Otro Atardecer</td>\n",
       "      <td>Bad Bunny &amp; The Marias</td>\n",
       "      <td>spotify:track:0E0DRHf5PfMeor0ZCwB3oT</td>\n",
       "    </tr>\n",
       "    <tr>\n",
       "      <th>91</th>\n",
       "      <td>96</td>\n",
       "      <td>96</td>\n",
       "      <td>We Cry Together</td>\n",
       "      <td>Kendrick Lamar &amp; Taylour Paige</td>\n",
       "      <td>spotify:track:67XC51nlZncNpHmZ8rOU9a</td>\n",
       "    </tr>\n",
       "    <tr>\n",
       "      <th>92</th>\n",
       "      <td>97</td>\n",
       "      <td>97</td>\n",
       "      <td>Dos Mil 16</td>\n",
       "      <td>Bad Bunny</td>\n",
       "      <td>spotify:track:4d4ZXH4dr5bYfgErHiZCX2</td>\n",
       "    </tr>\n",
       "    <tr>\n",
       "      <th>93</th>\n",
       "      <td>98</td>\n",
       "      <td>98</td>\n",
       "      <td>DFMU</td>\n",
       "      <td>Ella Mai</td>\n",
       "      <td>spotify:track:1bdm32mVmoGcek5bVKxQKd</td>\n",
       "    </tr>\n",
       "    <tr>\n",
       "      <th>94</th>\n",
       "      <td>99</td>\n",
       "      <td>99</td>\n",
       "      <td>Hate Our Love</td>\n",
       "      <td>Queen Naija &amp; Big Sean</td>\n",
       "      <td>spotify:track:3pEINn37iH5fx8TpXYNGIO</td>\n",
       "    </tr>\n",
       "  </tbody>\n",
       "</table>\n",
       "<p>95 rows × 5 columns</p>\n",
       "</div>"
      ],
      "text/plain": [
       "    index  Unnamed: 0               title                          artist  \\\n",
       "0       0           0           As It Was                    Harry Styles   \n",
       "1       1           1         First Class                     Jack Harlow   \n",
       "2       2           2          Wait For U   Future Featuring Drake & Tems   \n",
       "3       3           3  Late Night Talking                    Harry Styles   \n",
       "4       4           4     About Damn Time                           Lizzo   \n",
       "..    ...         ...                 ...                             ...   \n",
       "90     95          95      Otro Atardecer          Bad Bunny & The Marias   \n",
       "91     96          96     We Cry Together  Kendrick Lamar & Taylour Paige   \n",
       "92     97          97          Dos Mil 16                       Bad Bunny   \n",
       "93     98          98                DFMU                        Ella Mai   \n",
       "94     99          99       Hate Our Love          Queen Naija & Big Sean   \n",
       "\n",
       "                                     uri  \n",
       "0   spotify:track:4LRPiXqCikLlN15c3yImP7  \n",
       "1   spotify:track:1rDQ4oMwGJI7B4tovsBOxc  \n",
       "2   spotify:track:59nOXPmaKlBfGMDeOVGrIK  \n",
       "3   spotify:track:1qEmFfgcLObUfQm0j1W2CK  \n",
       "4   spotify:track:1PckUlxKqWQs3RlWXVBLw3  \n",
       "..                                   ...  \n",
       "90  spotify:track:0E0DRHf5PfMeor0ZCwB3oT  \n",
       "91  spotify:track:67XC51nlZncNpHmZ8rOU9a  \n",
       "92  spotify:track:4d4ZXH4dr5bYfgErHiZCX2  \n",
       "93  spotify:track:1bdm32mVmoGcek5bVKxQKd  \n",
       "94  spotify:track:3pEINn37iH5fx8TpXYNGIO  \n",
       "\n",
       "[95 rows x 5 columns]"
      ]
     },
     "execution_count": 212,
     "metadata": {},
     "output_type": "execute_result"
    }
   ],
   "source": [
    "top_100"
   ]
  },
  {
   "cell_type": "code",
   "execution_count": 124,
   "id": "68ec2e77",
   "metadata": {},
   "outputs": [],
   "source": [
    "top_100=top_100.dropna().reset_index()"
   ]
  },
  {
   "cell_type": "markdown",
   "id": "ebc44ffc",
   "metadata": {},
   "source": [
    "## get_audio_features(list_of_songs)"
   ]
  },
  {
   "cell_type": "code",
   "execution_count": null,
   "id": "4e475f8c",
   "metadata": {},
   "outputs": [],
   "source": [
    "def get_featurs(df):\n",
    "    output = pd.DataFrame()\n",
    "    for i in range(len(df['uri'])-1):\n",
    "            my_dict = sp.audio_features(df.loc[i,['uri']])[0]\n",
    "            my_dict_new = {key : my_dict[key] for key in list(my_dict.keys()) }\n",
    "            my_dict_new['title'] = df['title'][i]\n",
    "            my_dict_new['artist'] = df['artist'][i]\n",
    "            output = output.append(my_dict_new, ignore_index=True)\n",
    "    return output"
   ]
  },
  {
   "cell_type": "code",
   "execution_count": null,
   "id": "79b09b7a",
   "metadata": {},
   "outputs": [],
   "source": [
    "to_100_total=get_featurs(top_100)"
   ]
  },
  {
   "cell_type": "code",
   "execution_count": null,
   "id": "8102208e",
   "metadata": {},
   "outputs": [],
   "source": [
    "to_100_total"
   ]
  },
  {
   "cell_type": "markdown",
   "id": "c39b23bb",
   "metadata": {},
   "source": [
    "# NOT HOT ONES"
   ]
  },
  {
   "cell_type": "markdown",
   "id": "1ba23d37",
   "metadata": {},
   "source": [
    "## search song"
   ]
  },
  {
   "cell_type": "code",
   "execution_count": 227,
   "id": "99452593",
   "metadata": {},
   "outputs": [],
   "source": [
    "nothot=pd.read_csv('Spotify-2000.csv')"
   ]
  },
  {
   "cell_type": "code",
   "execution_count": 228,
   "id": "68639909",
   "metadata": {},
   "outputs": [],
   "source": [
    "nothot=nothot[['Title','Artist']]\n",
    "nothot.columns=list(map(lambda x:x.lower(),nothot.columns))\n"
   ]
  },
  {
   "cell_type": "code",
   "execution_count": 229,
   "id": "35c2daf9",
   "metadata": {},
   "outputs": [],
   "source": [
    "title_2=nothot['title'].to_list()\n",
    "artist_2=nothot['artist'].to_list()"
   ]
  },
  {
   "cell_type": "code",
   "execution_count": 274,
   "id": "ad7d5923",
   "metadata": {},
   "outputs": [],
   "source": [
    "uri_list_2 = []\n",
    "for i in range(len(title_2)):\n",
    "    uri_list_2.append(get_uri(sp, title_2[i], artist_2[i]))"
   ]
  },
  {
   "cell_type": "code",
   "execution_count": 321,
   "id": "cf5e48e7",
   "metadata": {},
   "outputs": [],
   "source": [
    "nothot['uri'] = uri_list_2"
   ]
  },
  {
   "cell_type": "code",
   "execution_count": 323,
   "id": "0497ff1c",
   "metadata": {},
   "outputs": [],
   "source": [
    "nothot=nothot.dropna().reset_index()"
   ]
  },
  {
   "cell_type": "markdown",
   "id": "2e74db47",
   "metadata": {},
   "source": [
    "## get_audio_features(list_of_songs)"
   ]
  },
  {
   "cell_type": "code",
   "execution_count": 324,
   "id": "d3a624bf",
   "metadata": {},
   "outputs": [],
   "source": [
    "nothot_total=get_featurs(nothot)"
   ]
  },
  {
   "cell_type": "code",
   "execution_count": null,
   "id": "5564891c",
   "metadata": {},
   "outputs": [],
   "source": []
  },
  {
   "cell_type": "code",
   "execution_count": null,
   "id": "9c9a50cd",
   "metadata": {},
   "outputs": [],
   "source": []
  }
 ],
 "metadata": {
  "kernelspec": {
   "display_name": "Python 3 (ipykernel)",
   "language": "python",
   "name": "python3"
  },
  "language_info": {
   "codemirror_mode": {
    "name": "ipython",
    "version": 3
   },
   "file_extension": ".py",
   "mimetype": "text/x-python",
   "name": "python",
   "nbconvert_exporter": "python",
   "pygments_lexer": "ipython3",
   "version": "3.9.7"
  },
  "toc": {
   "base_numbering": 1,
   "nav_menu": {},
   "number_sections": true,
   "sideBar": true,
   "skip_h1_title": false,
   "title_cell": "Table of Contents",
   "title_sidebar": "Contents",
   "toc_cell": false,
   "toc_position": {},
   "toc_section_display": true,
   "toc_window_display": false
  },
  "varInspector": {
   "cols": {
    "lenName": 16,
    "lenType": 16,
    "lenVar": 40
   },
   "kernels_config": {
    "python": {
     "delete_cmd_postfix": "",
     "delete_cmd_prefix": "del ",
     "library": "var_list.py",
     "varRefreshCmd": "print(var_dic_list())"
    },
    "r": {
     "delete_cmd_postfix": ") ",
     "delete_cmd_prefix": "rm(",
     "library": "var_list.r",
     "varRefreshCmd": "cat(var_dic_list()) "
    }
   },
   "types_to_exclude": [
    "module",
    "function",
    "builtin_function_or_method",
    "instance",
    "_Feature"
   ],
   "window_display": false
  }
 },
 "nbformat": 4,
 "nbformat_minor": 5
}
